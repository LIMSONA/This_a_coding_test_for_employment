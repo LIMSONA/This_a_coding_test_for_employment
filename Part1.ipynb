{
  "nbformat": 4,
  "nbformat_minor": 0,
  "metadata": {
    "colab": {
      "name": "Part1.ipynb",
      "provenance": [],
      "collapsed_sections": [],
      "authorship_tag": "ABX9TyNckdL2/LEbwnvzZqDSIjdP",
      "include_colab_link": true
    },
    "kernelspec": {
      "name": "python3",
      "display_name": "Python 3"
    },
    "language_info": {
      "name": "python"
    }
  },
  "cells": [
    {
      "cell_type": "markdown",
      "metadata": {
        "id": "view-in-github",
        "colab_type": "text"
      },
      "source": [
        "<a href=\"https://colab.research.google.com/github/LIMSONA/This_a_coding_test_for_employment/blob/main/Part1.ipynb\" target=\"_parent\"><img src=\"https://colab.research.google.com/assets/colab-badge.svg\" alt=\"Open In Colab\"/></a>"
      ]
    },
    {
      "cell_type": "markdown",
      "metadata": {
        "id": "6KWuc5mPCzXk"
      },
      "source": [
        "* 람다 표현식\n",
        "___"
      ]
    },
    {
      "cell_type": "code",
      "metadata": {
        "colab": {
          "base_uri": "https://localhost:8080/"
        },
        "id": "E_0B5MTQAmIZ",
        "outputId": "213911ad-902f-4be5-f4d3-8d2431d3dcf0"
      },
      "source": [
        "# 람다 표현식 - 예제 만들기\n",
        "#1 예제\n",
        "array=[('a',4),('b',2),('c',3)]\n",
        "\n",
        "def sona(x):\n",
        "    return x[1]\n",
        "\n",
        "\n",
        "print(sorted(array, key=sona))\n",
        "print(sorted(array, key=lambda x: x[1]))"
      ],
      "execution_count": 2,
      "outputs": [
        {
          "output_type": "stream",
          "name": "stdout",
          "text": [
            "[('b', 2), ('c', 3), ('a', 4)]\n",
            "[('b', 2), ('c', 3), ('a', 4)]\n"
          ]
        }
      ]
    },
    {
      "cell_type": "code",
      "metadata": {
        "colab": {
          "base_uri": "https://localhost:8080/"
        },
        "id": "nHdBhv-5A1Ao",
        "outputId": "b0a6ba17-b061-4290-9d0f-5df4971aa2b4"
      },
      "source": [
        "#2 예제\n",
        "\n",
        "a=[1,2,3,4,5]\n",
        "b=[6,7,8,9,10]\n",
        "\n",
        "#   map(lambda 변수들: 원하는 값, 변수들 지정)\n",
        "result=map(lambda x,y: x+y, a, b)\n",
        "print(list(result))"
      ],
      "execution_count": 3,
      "outputs": [
        {
          "output_type": "stream",
          "name": "stdout",
          "text": [
            "[7, 9, 11, 13, 15]\n"
          ]
        }
      ]
    },
    {
      "cell_type": "markdown",
      "metadata": {
        "id": "28VaonPfCmOb"
      },
      "source": [
        "* 실전에서 유용한 표준 라이브러리\n",
        "\n",
        "---\n",
        "\n"
      ]
    },
    {
      "cell_type": "markdown",
      "metadata": {
        "id": "-5WmBXnmC5M-"
      },
      "source": [
        "* 내장함수: 기본 입출력 함수부터 정렬함수까지 기본적인 함수들을 제공합니다. 필수기능\n",
        "\n",
        "* itertools: 파이썬에서 반복되는 형태의 데이터를 처리하기 위한 유용한 기능들을 제공합니다.\n",
        "\n",
        " - 특히 순열과 조합 라이브러리는 자주 사용\n",
        "\n",
        "* heapq: 힙 자료 구조를 제공합니다. 일반적으로 우선순위 큐 기능을 구현\n",
        "\n",
        "* bisect: 이진탐색(binary search) 기능을 제공\n",
        "* collections: 덱(deque), 카운터(counter)등 유용한 자료구조를 포함\n",
        "\n",
        "* math: 필수적인 수학적 기능을 제공\n",
        "\n",
        " - 팩토리얼, 제곱근, 최대공약수(GCD), 삼각함수 관련 함수부터 파이와 같은 상수를 포함"
      ]
    },
    {
      "cell_type": "markdown",
      "metadata": {
        "id": "yz3XLuORD6ir"
      },
      "source": [
        "1. 내장함수"
      ]
    },
    {
      "cell_type": "code",
      "metadata": {
        "colab": {
          "base_uri": "https://localhost:8080/"
        },
        "id": "D1E372yaE7Nw",
        "outputId": "58d09e9c-3af6-40d2-9354-97c16809f216"
      },
      "source": [
        "#sum( ) 합계, max( )최대값, min( )최소 값\n",
        "\n",
        "#eval( ) : 계산한 문자열을 실제 수로 변환\n",
        "result=eval('(3+5)*7')\n",
        "print(result)"
      ],
      "execution_count": 4,
      "outputs": [
        {
          "output_type": "stream",
          "name": "stdout",
          "text": [
            "56\n"
          ]
        }
      ]
    },
    {
      "cell_type": "code",
      "metadata": {
        "colab": {
          "base_uri": "https://localhost:8080/"
        },
        "id": "pnkARNu2FTXY",
        "outputId": "9f1120e5-eab6-4a02-a86c-36e10eee41db"
      },
      "source": [
        "#sorted( ): 정렬 (기본적으로 오름차순 \n",
        "#내림차순의 경우에는 reverse=True를 작성)\n",
        "\n",
        "result=sorted([5,4,3,2,1])\n",
        "print(result)\n",
        "\n",
        "reverse_result=sorted([1,2,3,4,5],reverse=True)\n",
        "print(reverse_result)"
      ],
      "execution_count": 5,
      "outputs": [
        {
          "output_type": "stream",
          "name": "stdout",
          "text": [
            "[1, 2, 3, 4, 5]\n",
            "[5, 4, 3, 2, 1]\n"
          ]
        }
      ]
    },
    {
      "cell_type": "code",
      "metadata": {
        "colab": {
          "base_uri": "https://localhost:8080/"
        },
        "id": "ZZ5qHrf-FyH5",
        "outputId": "de95a62a-7359-4338-d5e4-4710cb975dd0"
      },
      "source": [
        "#sorted( ) with key\n",
        "\n",
        "array=[('장안구',1),('수원시',2),('경기도',3)]\n",
        "result=sorted(array, key=lambda x: x[1], reverse=True)\n",
        "print(result)"
      ],
      "execution_count": 3,
      "outputs": [
        {
          "output_type": "stream",
          "name": "stdout",
          "text": [
            "[('경기도', 3), ('수원시', 2), ('장안구', 1)]\n"
          ]
        }
      ]
    },
    {
      "cell_type": "markdown",
      "metadata": {
        "id": "_KjgSrDcZVzb"
      },
      "source": [
        "2. itertools (순열과 조합)"
      ]
    },
    {
      "cell_type": "markdown",
      "metadata": {
        "id": "YbSbvzKGc6oA"
      },
      "source": [
        "* 순열: from itertools import permutations\n",
        "* 조합: from itertools import combinations\n",
        "\n",
        "* 중복순열: from itertools import product\n",
        "* 중복조합: from itertools import combinations_with_replacement "
      ]
    },
    {
      "cell_type": "code",
      "metadata": {
        "colab": {
          "base_uri": "https://localhost:8080/"
        },
        "id": "Z-54hDiTZd7M",
        "outputId": "d95a7d87-b127-4e07-e8db-b2bdc6158a5a"
      },
      "source": [
        "# 순열 nPr\n",
        "#n개 중에 r개 순서 고려하여 뽑기 \n",
        "\n",
        "#data 중에 3개를 순서 고려하여 뽑기\n",
        "from itertools import permutations\n",
        "data=['a','b','c']  \n",
        "result = list(permutations(data,2))\n",
        "print(result)"
      ],
      "execution_count": 8,
      "outputs": [
        {
          "output_type": "stream",
          "name": "stdout",
          "text": [
            "[('a', 'b'), ('a', 'c'), ('b', 'a'), ('b', 'c'), ('c', 'a'), ('c', 'b')]\n"
          ]
        }
      ]
    },
    {
      "cell_type": "code",
      "metadata": {
        "colab": {
          "base_uri": "https://localhost:8080/"
        },
        "id": "Gho6m_NCa8XD",
        "outputId": "8f372cfa-9467-47ed-802d-b51e320e7809"
      },
      "source": [
        "# 조합 nCr\n",
        "# n개중에 r개 순서 고려하지 않고 뽑기\n",
        "\n",
        "#data 중에 2개 뽑기\n",
        "from itertools import combinations\n",
        "\n",
        "data=['a','b','c']  \n",
        "result=list(combinations(data,2))\n",
        "print(result)"
      ],
      "execution_count": 5,
      "outputs": [
        {
          "output_type": "stream",
          "name": "stdout",
          "text": [
            "[('a', 'b'), ('a', 'c'), ('b', 'c')]\n"
          ]
        }
      ]
    },
    {
      "cell_type": "code",
      "metadata": {
        "colab": {
          "base_uri": "https://localhost:8080/"
        },
        "id": "fP-_tyOUb5Lk",
        "outputId": "5aa085db-10a9-4bdb-bdc8-384c4702baa4"
      },
      "source": [
        "# 중복순열, 중복 조합\n",
        "\n",
        "#중복 순열\n",
        "#중복 허용해서 순서 고려하여 2개 뽑기\n",
        "from itertools import product\n",
        "data=['a','b','c']\n",
        "result=list(product(data, repeat=2))\n",
        "print(result)\n",
        "\n",
        "#중복 조합\n",
        "#중복 허용해서 순서 고려하지 않고 2개 뽑기\n",
        "from itertools import combinations_with_replacement\n",
        "data=['a','b','c']\n",
        "result=list(combinations_with_replacement(data,2))\n",
        "print(result)"
      ],
      "execution_count": 10,
      "outputs": [
        {
          "output_type": "stream",
          "name": "stdout",
          "text": [
            "[('a', 'a'), ('a', 'b'), ('a', 'c'), ('b', 'a'), ('b', 'b'), ('b', 'c'), ('c', 'a'), ('c', 'b'), ('c', 'c')]\n",
            "[('a', 'a'), ('a', 'b'), ('a', 'c'), ('b', 'b'), ('b', 'c'), ('c', 'c')]\n"
          ]
        }
      ]
    }
  ]
}